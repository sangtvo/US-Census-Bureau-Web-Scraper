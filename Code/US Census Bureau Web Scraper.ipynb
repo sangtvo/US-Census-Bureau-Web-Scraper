{
 "metadata": {
  "language_info": {
   "codemirror_mode": {
    "name": "ipython",
    "version": 3
   },
   "file_extension": ".py",
   "mimetype": "text/x-python",
   "name": "python",
   "nbconvert_exporter": "python",
   "pygments_lexer": "ipython3",
   "version": "3.9.1-final"
  },
  "orig_nbformat": 2,
  "kernelspec": {
   "name": "python3",
   "display_name": "Python 3.9.1 64-bit",
   "metadata": {
    "interpreter": {
     "hash": "e106d2cf1c648e81a54c6777ff41d798abe773aa95d212a56059d95366da79e3"
    }
   }
  }
 },
 "nbformat": 4,
 "nbformat_minor": 2,
 "cells": [
  {
   "source": [
    "Import necessary packages from requests, csv, and BeautifulSoup."
   ],
   "cell_type": "markdown",
   "metadata": {}
  },
  {
   "cell_type": "code",
   "execution_count": 1,
   "metadata": {},
   "outputs": [],
   "source": [
    "import requests, csv\n",
    "from bs4 import BeautifulSoup"
   ]
  },
  {
   "source": [
    "Pulls the HTML code from the US Census Bureau webpage and there are a total of 227 URLs."
   ],
   "cell_type": "markdown",
   "metadata": {}
  },
  {
   "cell_type": "code",
   "execution_count": 2,
   "metadata": {},
   "outputs": [],
   "source": [
    "r = requests.get(\"https://www.census.gov/programs-surveys/popest.html\")\n",
    "page = r.text\n",
    "soup = BeautifulSoup(page, 'html.parser')\n",
    "raw_links = soup.find_all(\"a\", href = True)"
   ]
  },
  {
   "source": [
    "print('Total URLs: ', len(raw_links))"
   ],
   "cell_type": "code",
   "metadata": {},
   "execution_count": 3,
   "outputs": [
    {
     "output_type": "stream",
     "name": "stdout",
     "text": [
      "Total URLs:  227\n"
     ]
    }
   ]
  },
  {
   "source": [
    "An unordered and unindexed set is created called myset. The link.get(‘href’) function\n",
    "extracts all links contained within each identified href tag and goes through a for loop. For all\n",
    "relative links that starts with “/,” it is being concatenated with a domain website and added to the\n",
    "set. Otherwise, all unique links are added to the set and no duplicates are added. In total, there\n",
    "are 119 URLs in the set."
   ],
   "cell_type": "markdown",
   "metadata": {}
  },
  {
   "cell_type": "code",
   "execution_count": 4,
   "metadata": {},
   "outputs": [],
   "source": [
    "myset = set()\n",
    "for link in raw_links:\n",
    "    hrefs = link.get('href')\n",
    "    if hrefs.startswith('None'):\n",
    "        continue\n",
    "    elif hrefs.startswith('#'):\n",
    "        continue\n",
    "    elif hrefs.startswith('/'):\n",
    "        myset.add('https://www.census.gov' + hrefs)\n",
    "    else:\n",
    "        myset.add(hrefs)"
   ]
  },
  {
   "cell_type": "code",
   "execution_count": 5,
   "metadata": {},
   "outputs": [
    {
     "output_type": "stream",
     "name": "stdout",
     "text": [
      "Total URLs in myset:  119\n"
     ]
    }
   ],
   "source": [
    "print('Total URLs in myset: ', len(myset))"
   ]
  },
  {
   "source": [
    "Saves the set of unique links in a .csv format."
   ],
   "cell_type": "markdown",
   "metadata": {}
  },
  {
   "cell_type": "code",
   "execution_count": 6,
   "metadata": {},
   "outputs": [],
   "source": [
    "with open('links.csv', 'w') as f:\n",
    "    writer = csv.writer(f)\n",
    "    for links in myset:\n",
    "        writer.writerow([links])\n",
    "    f.close()"
   ]
  },
  {
   "cell_type": "code",
   "execution_count": null,
   "metadata": {},
   "outputs": [],
   "source": []
  }
 ]
}